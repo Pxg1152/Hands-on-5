{
 "cells": [
  {
   "cell_type": "code",
   "execution_count": 1,
   "id": "b1d56cd6",
   "metadata": {},
   "outputs": [
    {
     "name": "stdout",
     "output_type": "stream",
     "text": [
      "Initial heap: [1, 2, 5, 4, 9, 7]\n",
      "Heap after pushing 3.5: [1, 2, 3.5, 4, 9, 7, 5]\n",
      "Root popped: 1\n",
      "Heap after popping root: [2, 4, 3.5, 5, 9, 7]\n"
     ]
    }
   ],
   "source": [
    "class MinHeap:\n",
    "    def __init__(self):\n",
    "        self.heap = []\n",
    "\n",
    "    def parent(self, i):\n",
    "        return (i - 1) >> 1\n",
    "\n",
    "    def left_child(self, i):\n",
    "        return (i << 1) + 1\n",
    "\n",
    "    def right_child(self, i):\n",
    "        return (i << 1) + 2\n",
    "\n",
    "    def build_min_heap(self, arr):\n",
    "        self.heap = arr[:]\n",
    "        n = len(arr)\n",
    "        for i in range(n // 2 - 1, -1, -1):\n",
    "            self.heapify_down(i)\n",
    "\n",
    "    def heapify_down(self, i):\n",
    "        smallest = i\n",
    "        left = self.left_child(i)\n",
    "        right = self.right_child(i)\n",
    "\n",
    "        if left < len(self.heap) and self.heap[left] < self.heap[smallest]:\n",
    "            smallest = left\n",
    "\n",
    "        if right < len(self.heap) and self.heap[right] < self.heap[smallest]:\n",
    "            smallest = right\n",
    "\n",
    "        if smallest != i:\n",
    "            self.heap[i], self.heap[smallest] = self.heap[smallest], self.heap[i]\n",
    "            self.heapify_down(smallest)\n",
    "\n",
    "    def push(self, item):\n",
    "        self.heap.append(item)\n",
    "        index = len(self.heap) - 1\n",
    "        self.heapify_up(index)\n",
    "\n",
    "    def pop(self):\n",
    "        if not self.heap:\n",
    "            return None\n",
    "        if len(self.heap) == 1:\n",
    "            return self.heap.pop()\n",
    "        root = self.heap[0]\n",
    "        self.heap[0] = self.heap.pop()\n",
    "        self.heapify_down(0)\n",
    "        return root\n",
    "\n",
    "    def heapify_up(self, i):\n",
    "        while i > 0 and self.heap[i] < self.heap[self.parent(i)]:\n",
    "            self.heap[i], self.heap[self.parent(i)] = self.heap[self.parent(i)], self.heap[i]\n",
    "            i = self.parent(i)\n",
    "\n",
    "# Example\n",
    "heap = MinHeap()\n",
    "data = [4, 2, 7, 1, 9, 5]\n",
    "heap.build_min_heap(data)\n",
    "\n",
    "print(\"Initial heap:\", heap.heap)\n",
    "\n",
    "heap.push(3.5)\n",
    "print(\"Heap after pushing 3.5:\", heap.heap)\n",
    "\n",
    "root = heap.pop()\n",
    "print(\"Root popped:\", root)\n",
    "print(\"Heap after popping root:\", heap.heap)\n"
   ]
  }
 ],
 "metadata": {
  "kernelspec": {
   "display_name": "Python 3 (ipykernel)",
   "language": "python",
   "name": "python3"
  },
  "language_info": {
   "codemirror_mode": {
    "name": "ipython",
    "version": 3
   },
   "file_extension": ".py",
   "mimetype": "text/x-python",
   "name": "python",
   "nbconvert_exporter": "python",
   "pygments_lexer": "ipython3",
   "version": "3.11.5"
  }
 },
 "nbformat": 4,
 "nbformat_minor": 5
}
